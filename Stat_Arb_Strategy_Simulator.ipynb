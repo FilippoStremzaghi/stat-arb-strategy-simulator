{
 "cells": [
  {
   "cell_type": "code",
   "execution_count": null,
   "id": "76168458-744d-41c7-ae45-02f394c016fa",
   "metadata": {},
   "outputs": [],
   "source": [
    "# Statistical Arbitrage Strategy Simulator 📊\n",
    "\n",
    "This notebook implements a simple mean-reversion trading strategy between Coca-Cola (KO) and Pepsi (PEP) using z-score logic and cointegration testing.\n"
   ]
  },
  {
   "cell_type": "code",
   "execution_count": null,
   "id": "6e6019ea-c4a9-4af1-9a5b-69c387d6c1b3",
   "metadata": {},
   "outputs": [],
   "source": [
    "import pandas as pd\n",
    "import numpy as np\n",
    "import matplotlib.pyplot as plt\n",
    "from statsmodels.tsa.stattools import coint\n",
    "import yfinance as yf"
   ]
  },
  {
   "cell_type": "code",
   "execution_count": null,
   "id": "2c706fce-f576-43f6-aa55-029f516db7a8",
   "metadata": {},
   "outputs": [],
   "source": [
    "tickers = [\"KO\", \"PEP\"]\n",
    "df = yf.download(tickers, start=\"2018-01-01\", end=\"2023-12-31\")[\"Close\"]\n",
    "df.head()"
   ]
  },
  {
   "cell_type": "code",
   "execution_count": null,
   "id": "7dc6fd4b-d501-46d8-91f2-6a5000783196",
   "metadata": {},
   "outputs": [],
   "source": [
    "score, pvalue, _ = coint(df[\"KO\"], df[\"PEP\"])\n",
    "print(f\"P-value: {pvalue:.4f}\")"
   ]
  },
  {
   "cell_type": "code",
   "execution_count": null,
   "id": "bf8c93b2-8bf1-4b8d-a308-966417752af0",
   "metadata": {},
   "outputs": [],
   "source": [
    "spread = df[\"KO\"] - df[\"PEP\"]\n",
    "zscore = (spread - spread.mean()) / spread.std()\n",
    "\n",
    "plt.figure(figsize=(14, 5))\n",
    "plt.subplot(2, 1, 1)\n",
    "plt.plot(spread, label=\"Spread (KO - PEP)\")\n",
    "plt.axhline(spread.mean(), color=\"black\", linestyle=\"--\", label=\"Mean\")\n",
    "plt.axhline(spread.mean() + spread.std(), color=\"red\", linestyle=\"--\")\n",
    "plt.axhline(spread.mean() - spread.std(), color=\"green\", linestyle=\"--\")\n",
    "plt.title(\"Spread and Mean\")\n",
    "plt.legend()\n",
    "\n",
    "plt.subplot(2, 1, 2)\n",
    "plt.plot(zscore, label=\"Z-score\")\n",
    "plt.axhline(1, color=\"red\", linestyle=\"--\")\n",
    "plt.axhline(-1, color=\"green\", linestyle=\"--\")\n",
    "plt.axhline(0, color=\"black\", linestyle=\"--\")\n",
    "plt.title(\"Z-score\")\n",
    "plt.tight_layout()\n",
    "plt.show()"
   ]
  },
  {
   "cell_type": "code",
   "execution_count": null,
   "id": "9c393a0f-5c2d-49ab-98e1-cd912e672578",
   "metadata": {},
   "outputs": [],
   "source": [
    "# Load price data\n",
    "df = pd.read_csv(\"prices.csv\", index_col=0, parse_dates=True)\n",
    "ko = df[\"KO\"]\n",
    "pep = df[\"PEP\"]\n",
    "\n",
    "# Daily returns\n",
    "ko_ret = ko.pct_change().fillna(0)\n",
    "pep_ret = pep.pct_change().fillna(0)\n",
    "\n",
    "# Spread and z-score\n",
    "spread = ko - pep\n",
    "zscore = (spread - spread.mean()) / spread.std()\n",
    "\n",
    "# Initialize lists\n",
    "position = 0   # 1 = long KO / short PEP, -1 = short KO / long PEP, 0 = no position\n",
    "entry_price_ko = 0\n",
    "entry_price_pep = 0\n",
    "trades = []\n",
    "\n",
    "returns = []\n",
    "\n",
    "for t in range(1, len(df)):\n",
    "    date = df.index[t]\n",
    "    z = zscore.iloc[t]\n",
    "\n",
    "    # ENTRY: Long KO / Short PEP\n",
    "    if position == 0 and z < -1.0:\n",
    "        position = 1\n",
    "        entry_price_ko = ko.iloc[t]\n",
    "        entry_price_pep = pep.iloc[t]\n",
    "        entry_date = date\n",
    "\n",
    "    # ENTRY: Short KO / Long PEP\n",
    "    elif position == 0 and z > 1.0:\n",
    "        position = -1\n",
    "        entry_price_ko = ko.iloc[t]\n",
    "        entry_price_pep = pep.iloc[t]\n",
    "        entry_date = date\n",
    "\n",
    "    # EXIT: Close Position\n",
    "    elif position != 0 and abs(z) < 0.5:\n",
    "        exit_price_ko = ko.iloc[t]\n",
    "        exit_price_pep = pep.iloc[t]\n",
    "\n",
    "        # Calculate trade return\n",
    "        if position == 1:\n",
    "            ret = (exit_price_ko / entry_price_ko - 1) - (exit_price_pep / entry_price_pep - 1)\n",
    "        elif position == -1:\n",
    "            ret = (entry_price_ko / exit_price_ko - 1) - (entry_price_pep / exit_price_pep - 1)\n",
    "\n",
    "        trades.append({\n",
    "            \"Entry Date\": entry_date,\n",
    "            \"Exit Date\": date,\n",
    "            \"Position\": \"Long KO / Short PEP\" if position == 1 else \"Short KO / Long PEP\",\n",
    "            \"Return\": ret\n",
    "        })\n",
    "\n",
    "        returns.append(ret)\n",
    "        position = 0  # Reset position\n",
    "\n",
    "# Convert to DataFrame\n",
    "trades_df = pd.DataFrame(trades)\n",
    "\n",
    "# Compute performance\n",
    "total_return = np.prod([1 + r for r in returns]) - 1\n",
    "sharpe = np.mean(returns) / np.std(returns) * np.sqrt(252) if len(returns) > 1 else 0\n",
    "max_drawdown = np.max(np.maximum.accumulate(np.cumprod([1 + r for r in returns])) - np.cumprod([1 + r for r in returns]))\n",
    "\n",
    "# Plot cumulative return\n",
    "cumulative = np.cumprod([1 + r for r in returns])\n",
    "plt.figure(figsize=(10, 5))\n",
    "plt.plot(cumulative, label=\"Cumulative Return\")\n",
    "plt.title(\"Backtest: Pairs Trading KO/PEP\")\n",
    "plt.xlabel(\"Trade #\")\n",
    "plt.ylabel(\"Return\")\n",
    "plt.grid(True)\n",
    "plt.legend()\n",
    "plt.tight_layout()\n",
    "plt.show()\n",
    "\n",
    "# Save trades to CSV\n",
    "trades_df.to_csv(\"trades.csv\", index=False)\n",
    "print(\"\\n📁 Saved trade log to 'trades.csv'\")"
   ]
  },
  {
   "cell_type": "code",
   "execution_count": null,
   "id": "064a17d3-3342-441d-8696-e9f6176fd0bb",
   "metadata": {},
   "outputs": [],
   "source": [
    "plt.plot(cumulative, label=\"Strategy Return\")\n",
    "plt.title(\"Cumulative Strategy Return\")\n",
    "plt.grid(True)\n",
    "plt.legend()\n",
    "plt.show()\n"
   ]
  }
 ],
 "metadata": {
  "kernelspec": {
   "display_name": "Python 3 (ipykernel)",
   "language": "python",
   "name": "python3"
  },
  "language_info": {
   "codemirror_mode": {
    "name": "ipython",
    "version": 3
   },
   "file_extension": ".py",
   "mimetype": "text/x-python",
   "name": "python",
   "nbconvert_exporter": "python",
   "pygments_lexer": "ipython3",
   "version": "3.12.3"
  }
 },
 "nbformat": 4,
 "nbformat_minor": 5
}
